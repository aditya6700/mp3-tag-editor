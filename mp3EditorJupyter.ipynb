{
 "cells": [
  {
   "cell_type": "code",
   "execution_count": null,
   "metadata": {},
   "outputs": [],
   "source": [
    "# load the libraries that we'll use  \n",
    "from mutagen.mp3 import MP3  \n",
    "from mutagen.easyid3 import EasyID3  \n",
    "# import mutagen.id3  \n",
    "# from mutagen.id3 import ID3, TIT2, TIT3, TALB, TPE1, TRCK, TYER \n",
    "import glob  \n",
    "import numpy as np \n",
    "import os\n",
    "import json\n",
    "import csv"
   ]
  },
  {
   "cell_type": "code",
   "execution_count": null,
   "metadata": {},
   "outputs": [],
   "source": [
    "class TagEditor:\n",
    "    album_path = \"\"\n",
    "    album_list = []\n",
    "    \n",
    "    def __init__(self,album_path,genre,org):\n",
    "        self.album_path = album_path\n",
    "        self.genre = genre\n",
    "        self.org = org\n",
    "    \n",
    "    def updateAlbumList(self):\n",
    "        with open(\"data.csv\", \"r\") as file:\n",
    "            reader = csv.reader(file)\n",
    "            for row in reader:\n",
    "                self.album_list.append(row)\n",
    "    \n",
    "    def renameFolder(self,old,newName):\n",
    "        new = old.split(\"\\\\\")\n",
    "        new[-1] = newName\n",
    "        os.rename(old,\"\\\\\".join(new))\n",
    "      \n",
    "    def getAlbums(self):\n",
    "        count = 0\n",
    "        for album in os.listdir(self.album_path):\n",
    "            glob_filez = glob.glob(self.album_path + album + \"\\\\*.mp3\")\n",
    "            self.mp3TagEditor(glob_filez,count)\n",
    "            album_abs_path = os.path.abspath(os.path.join(album_path, album))\n",
    "            self.renameFolder(album_abs_path,self.album_list[count][0])\n",
    "            count += 1\n",
    "        \n",
    "    def mp3TagEditor(self,glob_filez, count):\n",
    "        for i in np.arange(0, len (glob_filez)):\n",
    "            song = glob_filez[i]  \n",
    "            # turn it into an mp3 object using the mutagen library  \n",
    "            mp3file = MP3(song, ID3=EasyID3) \n",
    "            \n",
    "            mp3file['organization'] = [self.org]\n",
    "            mp3file['genre'] = self.genre\n",
    "            mp3file['tracknumber'] =  str(i+1) + '/' + str(len(glob_filez))  \n",
    "            \n",
    "            mp3file['album'] = [self.album_list[count][0]]\n",
    "            mp3file['albumartist'] = mp3file['composer'] = [self.album_list[count][1]]\n",
    "            mp3file['date'] = [self.album_list[count][-1]] \n",
    "            \n",
    "            # mp3file['title'] = [glob_filez[i].split(\"\\\\\")[-1]]\n",
    "            # mp3file['artist'] = ['Pawan Kalyan, Trisha Krishnan, Kruthi Kharbanda']\n",
    "            \n",
    "            # mp3file['encodedby'] = ['']\n",
    "            # mp3file['copyright'] = ['http://iSongs.info']\n",
    "            # save the changes that we've made\n",
    "            mp3file.save()\n",
    "            # os.rename(glob_filez[i],glob_filez[i].replace(\"-SenSongsMp3.Co\",\"\"))"
   ]
  },
  {
   "cell_type": "code",
   "execution_count": null,
   "metadata": {},
   "outputs": [],
   "source": [
    "# driver code \n",
    "if __name__ == '__main__':\n",
    "    # extract the file names (including folders)  \n",
    "    # for the mp3s in the album  \n",
    "    album_path = \"C:\\\\Users\\\\in the presence\\\\Documents\\\\MyWork\\\\mp3-tag-editor\\\\test ablums\\\\\"\n",
    "    genre = \"Telugu\"\n",
    "    org = \"DSA\"\n",
    "    tagObj = TagEditor(album_path,genre,org)\n",
    "    tagObj.updateAlbumList()  \n",
    "    tagObj.getAlbums()  \n",
    "\n",
    "\n"
   ]
  },
  {
   "cell_type": "code",
   "execution_count": null,
   "metadata": {},
   "outputs": [],
   "source": []
  },
  {
   "cell_type": "code",
   "execution_count": null,
   "metadata": {},
   "outputs": [],
   "source": [
    "album_path = \"C:\\\\Users\\\\in the presence\\\\Documents\\\\MyWork\\\\mp3-tag-editor\\\\test ablums\\\\\"\n",
    "for album in os.listdir(album_path):\n",
    "    glob_filez = glob.glob(album_path+album+\"\\\\*.mp3\")\n",
    "    break"
   ]
  },
  {
   "cell_type": "code",
   "execution_count": null,
   "metadata": {},
   "outputs": [],
   "source": [
    "\n",
    " # print the first element of filez:  \n",
    "# filez[1]  \n",
    "print(*glob_filez, sep=\"\\n\")"
   ]
  },
  {
   "cell_type": "code",
   "execution_count": null,
   "metadata": {},
   "outputs": [],
   "source": [
    "# we want to extract the track number from the file name  \n",
    "# the file name is the last part of the string in 'filez'  \n",
    "# the different parts of 'filez' are split with a   \n",
    "# forward slash (/)  \n",
    "# let's split this element up and see what we get  \n",
    "glob_filez[0].split(\"\\\\\")"
   ]
  },
  {
   "cell_type": "code",
   "execution_count": null,
   "metadata": {},
   "outputs": [],
   "source": [
    "# check the ID3 tags for the mp3s in our folder  \n",
    "for i in np.arange(0, len(glob_filez)):  \n",
    "\tsong = glob_filez[i]  \n",
    "\tmp3file = MP3(song, ID3=EasyID3)  \n",
    "\tprint(mp3file[\"album\"][0])\n",
    "\tprint(any(x in mp3file[\"album\"][0].split(\" \") for x in album_list))\n",
    "\tprint(glob_filez[i].split(\"\\\\\")[-1])\n",
    "\tbreak"
   ]
  },
  {
   "cell_type": "code",
   "execution_count": null,
   "metadata": {},
   "outputs": [],
   "source": [
    "\n",
    "def updatemp3tags(mp3file, data):\n",
    "    try:\n",
    "        for key, value in data.items():\n",
    "            if mp3file[key] and mp3file[key][0] not in value:\n",
    "                value.append(mp3file[key][0])\n",
    "                data[key] = value\n",
    "    except Exception as e:\n",
    "        print(\"In exeption\")\n",
    "        print(e)   \n",
    "    return data\n",
    "    "
   ]
  },
  {
   "cell_type": "code",
   "execution_count": null,
   "metadata": {},
   "outputs": [],
   "source": [
    "# Load the JSON file\n",
    "with open(\"mp3tags.json\", \"r\") as file:\n",
    "    data = json.load(file)\n",
    "            \n",
    "# test_album_path = \"C:\\\\Users\\\\in the presence\\\\Documents\\\\MyWork\\\\mp3-tag-editor\\\\test ablums\\\\\"\n",
    "test_album_path = \"C:\\\\Users\\\\kOUNDINYA\\\\Music\\\\Aditya\\\\Telugu\\\\\"\n",
    "for album in os.listdir(test_album_path):\n",
    "    glob_filez = glob.glob(test_album_path+album+\"\\\\*.mp3\")\n",
    "    for i in np.arange(0, len(glob_filez)):  \n",
    "        song = glob_filez[i]  \n",
    "        mp3file = MP3(song, ID3=EasyID3) \n",
    "        try:\n",
    "            data = updatemp3tags(mp3file,data)\n",
    "        except Exception as e:\n",
    "            pass\n",
    "            # print(\"In exeption\")\n",
    "            # print(e)\n",
    "    \n",
    "# Write the modified data back to the file\n",
    "with open(\"mp3tags.json\", \"w\") as file:\n",
    "    json.dump(data, file, indent=4)\n"
   ]
  },
  {
   "cell_type": "code",
   "execution_count": null,
   "metadata": {},
   "outputs": [],
   "source": [
    "# test_album_path = \"C:\\\\Users\\\\kOUNDINYA\\\\Music\\\\Aditya\\\\Telugu\\\\\"\n",
    "test_album_path = \"C:\\\\Users\\\\in the presence\\\\Documents\\\\MyWork\\\\mp3-tag-editor\\\\test ablums\"\n",
    "\n",
    "result = []\n",
    "for album in os.listdir(test_album_path):\n",
    "    result.append(album)\n",
    "\n",
    "with open(\"output.txt\", \"w\") as file:\n",
    "    output = \"\\n\".join(result)\n",
    "    file.write(output)"
   ]
  },
  {
   "cell_type": "code",
   "execution_count": null,
   "metadata": {},
   "outputs": [],
   "source": [
    "old = \"C:\\\\Users\\\\in the presence\\\\Documents\\\\MyWork\\\\mp3-tag-editor\\\\test ablums\"\n",
    "new = old.split(\"\\\\\")\n",
    "new[-1] = \"test ablums\"\n",
    "print()\n",
    "os.rename(old,\"\\\\\".join(new))"
   ]
  },
  {
   "cell_type": "code",
   "execution_count": null,
   "metadata": {},
   "outputs": [],
   "source": [
    "album_path = \"C:\\\\Users\\\\in the presence\\\\Documents\\\\MyWork\\\\mp3-tag-editor\\\\test ablums\"\n",
    "for album in os.listdir(album_path):\n",
    "    album_abs_path = os.path.abspath(os.path.join(album_path, album))\n",
    "    print(album_abs_path)"
   ]
  },
  {
   "cell_type": "code",
   "execution_count": 9,
   "metadata": {},
   "outputs": [],
   "source": [
    "import os\n",
    "import shutil\n",
    "from mutagen.easyid3 import EasyID3\n",
    "from mutagen.mp3 import MP3\n",
    "from mutagen.id3 import APIC, ID3\n",
    "import mimetypes"
   ]
  },
  {
   "cell_type": "code",
   "execution_count": 2,
   "metadata": {},
   "outputs": [
    {
     "name": "stdout",
     "output_type": "stream",
     "text": [
      "Available metadata properties:\n",
      "album: ['Freedom']\n",
      "title: ['Beautiful']\n",
      "artist: ['Akon']\n",
      "tracknumber: ['9']\n",
      "date: ['2013']\n"
     ]
    }
   ],
   "source": [
    "def print_mp3_metadata(mp3_file_path):\n",
    "    # Load the MP3 file\n",
    "    audio = MP3(mp3_file_path, ID3=EasyID3)\n",
    "\n",
    "    # Print all available metadata properties\n",
    "    print(\"Available metadata properties:\")\n",
    "    for key in audio.keys():\n",
    "        print(f\"{key}: {audio[key]}\")\n",
    "\n",
    "# Example usage:\n",
    "mp3_file_path = \"D:\\\\utilities\\\\mp3-tag-editor\\\\updated_Akon\\\\Beautifull.mp3\"\n",
    "print_mp3_metadata(mp3_file_path)"
   ]
  },
  {
   "cell_type": "code",
   "execution_count": 19,
   "metadata": {},
   "outputs": [],
   "source": [
    "\n",
    "def update_mp3_metadata(album_path, output_path, metadata={}):\n",
    "    # If output path is not provided, create a default output directory\n",
    "    if output_path == '':\n",
    "        output_path = os.path.join(os.getcwd(), f\"updated_{os.path.basename(album_path)}\")\n",
    "        os.makedirs(output_path, exist_ok=True)\n",
    "\n",
    "    # Get a list of all MP3 files in the album path\n",
    "    mp3_files = [file for file in os.listdir(album_path) if file.endswith(\".mp3\")]\n",
    "\n",
    "    # Counter to track the order of files\n",
    "    track_number = 1\n",
    "\n",
    "    for mp3_file in mp3_files:\n",
    "        # Read the MP3 file\n",
    "        file_path = os.path.join(album_path, mp3_file)\n",
    "        audio = MP3(file_path, ID3=EasyID3)\n",
    "\n",
    "        # Create a new MP3 file with the same audio data\n",
    "        new_file_path = os.path.join(output_path, mp3_file)\n",
    "        shutil.copy2(file_path, new_file_path)\n",
    "        new_audio = MP3(new_file_path, ID3=EasyID3)\n",
    "\n",
    "        # Update MP3 properties if available\n",
    "        if metadata:\n",
    "            for key, value in metadata.items():\n",
    "                if value:\n",
    "                    new_audio[key] = value\n",
    "                \n",
    "\n",
    "        # Update track number\n",
    "        new_audio['tracknumber'] = str(track_number)\n",
    "\n",
    "        # Save the changes\n",
    "        new_audio.save()\n",
    "\n",
    "        track_number += 1\n",
    "\n",
    "        print(f\"Updated properties for {mp3_file} and saved to {new_file_path}\")\n",
    "\n"
   ]
  },
  {
   "cell_type": "code",
   "execution_count": 20,
   "metadata": {},
   "outputs": [
    {
     "name": "stdout",
     "output_type": "stream",
     "text": [
      "Updated properties for Beautifull.mp3 and saved to d:\\utilities\\mp3-tag-editor\\updated_Akon\\Beautifull.mp3\n",
      "Updated properties for Holla Holla.mp3 and saved to d:\\utilities\\mp3-tag-editor\\updated_Akon\\Holla Holla.mp3\n",
      "Updated properties for Keep Up.mp3 and saved to d:\\utilities\\mp3-tag-editor\\updated_Akon\\Keep Up.mp3\n",
      "Updated properties for Keep You Much Longer.mp3 and saved to d:\\utilities\\mp3-tag-editor\\updated_Akon\\Keep You Much Longer.mp3\n",
      "Updated properties for Party Animal.mp3 and saved to d:\\utilities\\mp3-tag-editor\\updated_Akon\\Party Animal.mp3\n",
      "Updated properties for Right now.mp3 and saved to d:\\utilities\\mp3-tag-editor\\updated_Akon\\Right now.mp3\n",
      "Updated properties for Troublemaker.mp3 and saved to d:\\utilities\\mp3-tag-editor\\updated_Akon\\Troublemaker.mp3\n"
     ]
    }
   ],
   "source": [
    "album_path = 'D:\\\\utilities\\\\mp3-tag-editor\\\\testalbums\\\\Akon'\n",
    "output_path = ''\n",
    "\n",
    "# Example usage:\n",
    "metadata = {\n",
    "    'album': '',\n",
    "    # 'encodedby': 'test',\n",
    "    'title': 'Beautiful',\n",
    "    'version': 'test',\n",
    "    'artist': 'test',\n",
    "    'albumartist': 'test',\n",
    "    'genre': 'test',\n",
    "    'date': '2023',\n",
    "    'website': 'test',\n",
    "}\n",
    "\n",
    "update_mp3_metadata(album_path, output_path, metadata)"
   ]
  },
  {
   "cell_type": "code",
   "execution_count": null,
   "metadata": {},
   "outputs": [],
   "source": []
  }
 ],
 "metadata": {
  "kernelspec": {
   "display_name": "Python 3",
   "language": "python",
   "name": "python3"
  },
  "language_info": {
   "codemirror_mode": {
    "name": "ipython",
    "version": 3
   },
   "file_extension": ".py",
   "mimetype": "text/x-python",
   "name": "python",
   "nbconvert_exporter": "python",
   "pygments_lexer": "ipython3",
   "version": "3.12.1"
  },
  "orig_nbformat": 4,
  "vscode": {
   "interpreter": {
    "hash": "58da5f96da04847a53a58594775f17f5d2d1d4b2404ea8be5ee7d5a8683be0b4"
   }
  }
 },
 "nbformat": 4,
 "nbformat_minor": 2
}
