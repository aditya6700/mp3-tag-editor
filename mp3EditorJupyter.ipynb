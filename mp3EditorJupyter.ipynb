{
 "cells": [
  {
   "cell_type": "code",
   "execution_count": 1,
   "metadata": {},
   "outputs": [],
   "source": [
    "# load the libraries that we'll use  \n",
    "from mutagen.mp3 import MP3  \n",
    "from mutagen.easyid3 import EasyID3  \n",
    "# import mutagen.id3  \n",
    "# from mutagen.id3 import ID3, TIT2, TIT3, TALB, TPE1, TRCK, TYER \n",
    "import glob  \n",
    "import numpy as np \n",
    "import os\n",
    "import json\n",
    "import csv"
   ]
  },
  {
   "cell_type": "code",
   "execution_count": 21,
   "metadata": {},
   "outputs": [],
   "source": [
    "\n"
   ]
  },
  {
   "cell_type": "code",
   "execution_count": null,
   "metadata": {},
   "outputs": [],
   "source": []
  },
  {
   "cell_type": "code",
   "execution_count": 7,
   "metadata": {},
   "outputs": [],
   "source": [
    "class TagEditor:\n",
    "    album_path = \"\"\n",
    "    album_list = []\n",
    "    \n",
    "    def __init__(self,album_path,genre,org):\n",
    "        self.album_path = album_path\n",
    "        self.genre = genre\n",
    "        self.org = org\n",
    "    \n",
    "    def updateAlbumList(self):\n",
    "        with open(\"data.csv\", \"r\") as file:\n",
    "            reader = csv.reader(file)\n",
    "            for row in reader:\n",
    "                self.album_list.append(row)\n",
    "    \n",
    "    def renameFolder(self,old,newName):\n",
    "        new = old.split(\"\\\\\")\n",
    "        new[-1] = newName\n",
    "        os.rename(old,\"\\\\\".join(new))\n",
    "      \n",
    "    def getAlbums(self):\n",
    "        count = 0\n",
    "        for album in os.listdir(self.album_path):\n",
    "            glob_filez = glob.glob(self.album_path + album + \"\\\\*.mp3\")\n",
    "            self.mp3TagEditor(glob_filez,count)\n",
    "            album_abs_path = os.path.abspath(os.path.join(album_path, album))\n",
    "            self.renameFolder(album_abs_path,self.album_list[count][0])\n",
    "            count += 1\n",
    "        \n",
    "    def mp3TagEditor(self,glob_filez, count):\n",
    "        for i in np.arange(0, len (glob_filez)):\n",
    "            song = glob_filez[i]  \n",
    "            # turn it into an mp3 object using the mutagen library  \n",
    "            mp3file = MP3(song, ID3=EasyID3) \n",
    "            \n",
    "            mp3file['organization'] = [self.org]\n",
    "            mp3file['genre'] = self.genre\n",
    "            mp3file['tracknumber'] =  str(i+1) + '/' + str(len(glob_filez))  \n",
    "            \n",
    "            mp3file['album'] = [self.album_list[count][0]]\n",
    "            mp3file['albumartist'] = mp3file['composer'] = [self.album_list[count][1]]\n",
    "            mp3file['date'] = [self.album_list[count][-1]] \n",
    "            \n",
    "            # mp3file['title'] = [glob_filez[i].split(\"\\\\\")[-1]]\n",
    "            # mp3file['artist'] = ['Pawan Kalyan, Trisha Krishnan, Kruthi Kharbanda']\n",
    "            \n",
    "            # mp3file['encodedby'] = ['']\n",
    "            # mp3file['copyright'] = ['http://iSongs.info']\n",
    "            # save the changes that we've made\n",
    "            mp3file.save()\n",
    "            # os.rename(glob_filez[i],glob_filez[i].replace(\"-SenSongsMp3.Co\",\"\"))"
   ]
  },
  {
   "cell_type": "code",
   "execution_count": 8,
   "metadata": {},
   "outputs": [],
   "source": [
    "# driver code \n",
    "if __name__ == '__main__':\n",
    "    # extract the file names (including folders)  \n",
    "    # for the mp3s in the album  \n",
    "    album_path = \"C:\\\\Users\\\\in the presence\\\\Documents\\\\MyWork\\\\mp3-tag-editor\\\\test ablums\\\\\"\n",
    "    genre = \"Telugu\"\n",
    "    org = \"DSA\"\n",
    "    tagObj = TagEditor(album_path,genre,org)\n",
    "    tagObj.updateAlbumList()  \n",
    "    tagObj.getAlbums()  \n",
    "\n",
    "\n"
   ]
  },
  {
   "cell_type": "code",
   "execution_count": null,
   "metadata": {},
   "outputs": [],
   "source": []
  },
  {
   "cell_type": "code",
   "execution_count": 9,
   "metadata": {},
   "outputs": [],
   "source": [
    "album_path = \"C:\\\\Users\\\\in the presence\\\\Documents\\\\MyWork\\\\mp3-tag-editor\\\\test ablums\\\\\"\n",
    "for album in os.listdir(album_path):\n",
    "    glob_filez = glob.glob(album_path+album+\"\\\\*.mp3\")\n",
    "    break"
   ]
  },
  {
   "cell_type": "code",
   "execution_count": 10,
   "metadata": {},
   "outputs": [
    {
     "name": "stdout",
     "output_type": "stream",
     "text": [
      "C:\\Users\\in the presence\\Documents\\MyWork\\mp3-tag-editor\\test ablums\\1-Nenokkadine (2013)\\01 - Who R U.mp3\n",
      "C:\\Users\\in the presence\\Documents\\MyWork\\mp3-tag-editor\\test ablums\\1-Nenokkadine (2013)\\02 - Aww Tuzo Mogh Kortha.mp3\n",
      "C:\\Users\\in the presence\\Documents\\MyWork\\mp3-tag-editor\\test ablums\\1-Nenokkadine (2013)\\03 - O Sayonara Sayonara.mp3\n",
      "C:\\Users\\in the presence\\Documents\\MyWork\\mp3-tag-editor\\test ablums\\1-Nenokkadine (2013)\\04 - You're My Love.mp3\n",
      "C:\\Users\\in the presence\\Documents\\MyWork\\mp3-tag-editor\\test ablums\\1-Nenokkadine (2013)\\05 - London Babu.mp3\n"
     ]
    }
   ],
   "source": [
    "\n",
    " # print the first element of filez:  \n",
    "# filez[1]  \n",
    "print(*glob_filez, sep=\"\\n\")"
   ]
  },
  {
   "cell_type": "code",
   "execution_count": 11,
   "metadata": {},
   "outputs": [
    {
     "data": {
      "text/plain": [
       "['C:',\n",
       " 'Users',\n",
       " 'in the presence',\n",
       " 'Documents',\n",
       " 'MyWork',\n",
       " 'mp3-tag-editor',\n",
       " 'test ablums',\n",
       " '1-Nenokkadine (2013)',\n",
       " '01 - Who R U.mp3']"
      ]
     },
     "execution_count": 11,
     "metadata": {},
     "output_type": "execute_result"
    }
   ],
   "source": [
    "# we want to extract the track number from the file name  \n",
    "# the file name is the last part of the string in 'filez'  \n",
    "# the different parts of 'filez' are split with a   \n",
    "# forward slash (/)  \n",
    "# let's split this element up and see what we get  \n",
    "glob_filez[0].split(\"\\\\\")"
   ]
  },
  {
   "cell_type": "code",
   "execution_count": 29,
   "metadata": {},
   "outputs": [
    {
     "name": "stdout",
     "output_type": "stream",
     "text": [
      "1 - Nenokkadine (2014)\n",
      "False\n",
      "01 - Who R U.mp3\n"
     ]
    }
   ],
   "source": [
    "# check the ID3 tags for the mp3s in our folder  \n",
    "for i in np.arange(0, len(glob_filez)):  \n",
    "\tsong = glob_filez[i]  \n",
    "\tmp3file = MP3(song, ID3=EasyID3)  \n",
    "\tprint(mp3file[\"album\"][0])\n",
    "\tprint(any(x in mp3file[\"album\"][0].split(\" \") for x in album_list))\n",
    "\tprint(glob_filez[i].split(\"\\\\\")[-1])\n",
    "\tbreak"
   ]
  },
  {
   "cell_type": "code",
   "execution_count": 28,
   "metadata": {},
   "outputs": [],
   "source": [
    "\n",
    "def updatemp3tags(mp3file, data):\n",
    "    try:\n",
    "        for key, value in data.items():\n",
    "            if mp3file[key] and mp3file[key][0] not in value:\n",
    "                value.append(mp3file[key][0])\n",
    "                data[key] = value\n",
    "    except Exception as e:\n",
    "        print(\"In exeption\")\n",
    "        print(e)   \n",
    "    return data\n",
    "    "
   ]
  },
  {
   "cell_type": "code",
   "execution_count": null,
   "metadata": {},
   "outputs": [],
   "source": [
    "# Load the JSON file\n",
    "with open(\"mp3tags.json\", \"r\") as file:\n",
    "    data = json.load(file)\n",
    "            \n",
    "# test_album_path = \"C:\\\\Users\\\\in the presence\\\\Documents\\\\MyWork\\\\mp3-tag-editor\\\\test ablums\\\\\"\n",
    "test_album_path = \"C:\\\\Users\\\\kOUNDINYA\\\\Music\\\\Aditya\\\\Telugu\\\\\"\n",
    "for album in os.listdir(test_album_path):\n",
    "    glob_filez = glob.glob(test_album_path+album+\"\\\\*.mp3\")\n",
    "    for i in np.arange(0, len(glob_filez)):  \n",
    "        song = glob_filez[i]  \n",
    "        mp3file = MP3(song, ID3=EasyID3) \n",
    "        try:\n",
    "            data = updatemp3tags(mp3file,data)\n",
    "        except Exception as e:\n",
    "            pass\n",
    "            # print(\"In exeption\")\n",
    "            # print(e)\n",
    "    \n",
    "# Write the modified data back to the file\n",
    "with open(\"mp3tags.json\", \"w\") as file:\n",
    "    json.dump(data, file, indent=4)\n"
   ]
  },
  {
   "cell_type": "code",
   "execution_count": 6,
   "metadata": {},
   "outputs": [],
   "source": [
    "# test_album_path = \"C:\\\\Users\\\\kOUNDINYA\\\\Music\\\\Aditya\\\\Telugu\\\\\"\n",
    "test_album_path = \"C:\\\\Users\\\\in the presence\\\\Documents\\\\MyWork\\\\mp3-tag-editor\\\\test ablums\"\n",
    "\n",
    "result = []\n",
    "for album in os.listdir(test_album_path):\n",
    "    result.append(album)\n",
    "\n",
    "with open(\"output.txt\", \"w\") as file:\n",
    "    output = \"\\n\".join(result)\n",
    "    file.write(output)"
   ]
  },
  {
   "cell_type": "code",
   "execution_count": 62,
   "metadata": {},
   "outputs": [
    {
     "name": "stdout",
     "output_type": "stream",
     "text": [
      "\n"
     ]
    }
   ],
   "source": [
    "old = \"C:\\\\Users\\\\in the presence\\\\Documents\\\\MyWork\\\\mp3-tag-editor\\\\test ablums\"\n",
    "new = old.split(\"\\\\\")\n",
    "new[-1] = \"test ablums\"\n",
    "print()\n",
    "os.rename(old,\"\\\\\".join(new))"
   ]
  },
  {
   "cell_type": "code",
   "execution_count": 67,
   "metadata": {},
   "outputs": [
    {
     "name": "stdout",
     "output_type": "stream",
     "text": [
      "C:\\Users\\in the presence\\Documents\\MyWork\\mp3-tag-editor\\test ablums\\1-Nenokkadine (2013)\n",
      "C:\\Users\\in the presence\\Documents\\MyWork\\mp3-tag-editor\\test ablums\\100% Love (2011)\n",
      "C:\\Users\\in the presence\\Documents\\MyWork\\mp3-tag-editor\\test ablums\\118\n",
      "C:\\Users\\in the presence\\Documents\\MyWork\\mp3-tag-editor\\test ablums\\2.0 (2018)\n",
      "C:\\Users\\in the presence\\Documents\\MyWork\\mp3-tag-editor\\test ablums\\24 - (2016)\n",
      "C:\\Users\\in the presence\\Documents\\MyWork\\mp3-tag-editor\\test ablums\\3 Movie 2012\n",
      "C:\\Users\\in the presence\\Documents\\MyWork\\mp3-tag-editor\\test ablums\\7th Sense\n",
      "C:\\Users\\in the presence\\Documents\\MyWork\\mp3-tag-editor\\test ablums\\A Aa (2016)\n",
      "C:\\Users\\in the presence\\Documents\\MyWork\\mp3-tag-editor\\test ablums\\A1 Express (2021)\n",
      "C:\\Users\\in the presence\\Documents\\MyWork\\mp3-tag-editor\\test ablums\\Aacharya\n",
      "C:\\Users\\in the presence\\Documents\\MyWork\\mp3-tag-editor\\test ablums\\Aagadu (2014)\n",
      "C:\\Users\\in the presence\\Documents\\MyWork\\mp3-tag-editor\\test ablums\\aakasame ne haddura\n",
      "C:\\Users\\in the presence\\Documents\\MyWork\\mp3-tag-editor\\test ablums\\Aaru\n",
      "C:\\Users\\in the presence\\Documents\\MyWork\\mp3-tag-editor\\test ablums\\Aarya 2\n",
      "C:\\Users\\in the presence\\Documents\\MyWork\\mp3-tag-editor\\test ablums\\Adhurs (2009)\n",
      "C:\\Users\\in the presence\\Documents\\MyWork\\mp3-tag-editor\\test ablums\\Adirindi (2017)\n",
      "C:\\Users\\in the presence\\Documents\\MyWork\\mp3-tag-editor\\test ablums\\Agent Bairavaa (2017)\n",
      "C:\\Users\\in the presence\\Documents\\MyWork\\mp3-tag-editor\\test ablums\\Agnyaathavaasi (2017)\n",
      "C:\\Users\\in the presence\\Documents\\MyWork\\mp3-tag-editor\\test ablums\\Akhanda\n",
      "C:\\Users\\in the presence\\Documents\\MyWork\\mp3-tag-editor\\test ablums\\Akhil (2015)\n"
     ]
    }
   ],
   "source": [
    "album_path = \"C:\\\\Users\\\\in the presence\\\\Documents\\\\MyWork\\\\mp3-tag-editor\\\\test ablums\"\n",
    "for album in os.listdir(album_path):\n",
    "    album_abs_path = os.path.abspath(os.path.join(album_path, album))\n",
    "    print(album_abs_path)"
   ]
  }
 ],
 "metadata": {
  "kernelspec": {
   "display_name": "Python 3",
   "language": "python",
   "name": "python3"
  },
  "language_info": {
   "codemirror_mode": {
    "name": "ipython",
    "version": 3
   },
   "file_extension": ".py",
   "mimetype": "text/x-python",
   "name": "python",
   "nbconvert_exporter": "python",
   "pygments_lexer": "ipython3",
   "version": "3.10.2"
  },
  "orig_nbformat": 4,
  "vscode": {
   "interpreter": {
    "hash": "58da5f96da04847a53a58594775f17f5d2d1d4b2404ea8be5ee7d5a8683be0b4"
   }
  }
 },
 "nbformat": 4,
 "nbformat_minor": 2
}
