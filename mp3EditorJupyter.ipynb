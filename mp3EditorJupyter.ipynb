{
 "cells": [
  {
   "cell_type": "code",
   "execution_count": 2,
   "metadata": {},
   "outputs": [],
   "source": [
    "# load the libraries that we'll use  \n",
    "from mutagen.mp3 import MP3  \n",
    "from mutagen.easyid3 import EasyID3  \n",
    "# import mutagen.id3  \n",
    "# from mutagen.id3 import ID3, TIT2, TIT3, TALB, TPE1, TRCK, TYER \n",
    "import glob  \n",
    "import numpy as np \n",
    "import os\n",
    "import json"
   ]
  },
  {
   "cell_type": "code",
   "execution_count": null,
   "metadata": {},
   "outputs": [],
   "source": [
    "def renameFolder():\n",
    "    pass"
   ]
  },
  {
   "cell_type": "code",
   "execution_count": 19,
   "metadata": {},
   "outputs": [],
   "source": [
    "def mp3TagEditor(album_path):\n",
    "    glob_filez = glob.glob(album_path)\n",
    "    for i in np.arange(0, len (glob_filez)):\n",
    "        song = glob_filez[i]  \n",
    "        # turn it into an mp3 object using the mutagen library  \n",
    "        mp3file = MP3(song, ID3=EasyID3) \n",
    "        mp3file['album'] = ['Theenmar (2011)']\n",
    "        mp3file['encodedby'] = ['']\n",
    "        mp3file['title'] = [glob_filez[i].split(\"\\\\\")[-1].replace(\"-SenSongsMp3.Co.mp3\",\"\").rstrip()]\n",
    "        mp3file['artist'] = ['Pawan Kalyan, Trisha Krishnan, Kruthi Kharbanda']\n",
    "        mp3file['albumartist'] = mp3file['composer'] = ['Mani Sharma']\n",
    "        mp3file['organization'] = ['']\n",
    "        mp3file['tracknumber'] =  str(i+1) + '/' + str(len(glob_filez))  \n",
    "        mp3file['date'] = ['2016'] \n",
    "        mp3file['copyright'] = ['http://iSongs.info']\n",
    "        mp3file['genre'] = ['Telugu']\n",
    "         # save the changes that we've made\n",
    "        mp3file.save()\n",
    "        os.rename(glob_filez[i],glob_filez[i].replace(\"-SenSongsMp3.Co\",\"\"))"
   ]
  },
  {
   "cell_type": "code",
   "execution_count": 3,
   "metadata": {},
   "outputs": [],
   "source": [
    "# driver code \n",
    "if __name__ == '__main__':\n",
    "    # extract the file names (including folders)  \n",
    "    # for the mp3s in the album  \n",
    "    album_path = \"C:\\\\Users\\\\kOUNDINYA\\\\Music\\\\Aditya\\\\Telugu\\\\RRR\\\\*.mp3\"\n",
    "    mp3TagEditor(album_path)  "
   ]
  },
  {
   "cell_type": "code",
   "execution_count": 13,
   "metadata": {},
   "outputs": [
    {
     "name": "stdout",
     "output_type": "stream",
     "text": [
      "C:\\Users\\kOUNDINYA\\Music\\Aditya\\Telugu\\RRR\\Dosti.mp3\n",
      "C:\\Users\\kOUNDINYA\\Music\\Aditya\\Telugu\\RRR\\Etthara Jenda.mp3\n",
      "C:\\Users\\kOUNDINYA\\Music\\Aditya\\Telugu\\RRR\\Janani.mp3\n",
      "C:\\Users\\kOUNDINYA\\Music\\Aditya\\Telugu\\RRR\\Komma Uyyala.mp3\n",
      "C:\\Users\\kOUNDINYA\\Music\\Aditya\\Telugu\\RRR\\Komuram Bheemudo.mp3\n",
      "C:\\Users\\kOUNDINYA\\Music\\Aditya\\Telugu\\RRR\\Nattu Nattu.mp3\n"
     ]
    }
   ],
   "source": [
    "\n",
    " # print the first element of filez:  \n",
    "# filez[1]  \n",
    "print(*filez, sep=\"\\n\")"
   ]
  },
  {
   "cell_type": "code",
   "execution_count": 37,
   "metadata": {},
   "outputs": [
    {
     "data": {
      "text/plain": [
       "['.', 'Theenmar (2011)', 'Aale Baale-SenSongsMp3.Co.mp3']"
      ]
     },
     "execution_count": 37,
     "metadata": {},
     "output_type": "execute_result"
    }
   ],
   "source": [
    "# we want to extract the track number from the file name  \n",
    "# the file name is the last part of the string in 'filez'  \n",
    "# the different parts of 'filez' are split with a   \n",
    "# forward slash (/)  \n",
    "# let's split this element up and see what we get  \n",
    "filez[0].split(\"\\\\\")"
   ]
  },
  {
   "cell_type": "code",
   "execution_count": 51,
   "metadata": {},
   "outputs": [
    {
     "name": "stdout",
     "output_type": "stream",
     "text": [
      "{'album': ['1 - Nenokkadine (2014)'], 'composer': ['Music : Devi Sri Prasad | Lyrics : Chandrabose'], 'copyright': ['Lahari Music'], 'encodedby': ['Eac * Lame'], 'length': ['293546'], 'title': ['Who R U'], 'artist': ['Devi Sri Prasad'], 'albumartist': ['DSP'], 'organization': ['Lahari Music'], 'tracknumber': ['01/05'], 'genre': ['Soundtrack'], 'date': ['2014']}\n",
      "{'album': ['1 - Nenokkadine (2014)'], 'composer': ['Music : Devi Sri Prasad | Lyrics : Chandrabose'], 'copyright': ['Lahari Music'], 'encodedby': ['Eac * Lame'], 'length': ['263720'], 'title': ['Aww Tuzo Mogh Kortha'], 'artist': ['Neha Bhasin'], 'albumartist': ['DSP'], 'organization': ['Lahari Music'], 'tracknumber': ['02/05'], 'genre': ['Soundtrack'], 'date': ['2014']}\n",
      "{'album': ['1 - Nenokkadine (2014)'], 'composer': ['Music: Devi Sri Prasad | Lyrics: Chandrabose'], 'copyright': ['Lahari Music | www.AtoZmp3.in'], 'encodedby': ['www.AtoZmp3.in'], 'title': ['O Sayonara Sayonara [www.AtoZmp3.in]'], 'artist': ['Sooraj Santhosh, M.M.Manasi'], 'albumartist': ['DSP'], 'discnumber': ['01/01'], 'organization': ['Lahari Music | www.AtoZmp3.in'], 'tracknumber': ['03'], 'genre': ['www.AtoZmp3.in'], 'date': ['2013'], 'website': ['www.AtoZmp3.in']}\n",
      "{'album': ['1 - Nenokkadine (2014)'], 'composer': ['Music : Devi Sri Prasad | Lyrics : Chandrabose & DSP (English)'], 'copyright': ['Lahari Music'], 'encodedby': ['Eac * Lame'], 'length': ['274226'], 'title': [\"You're My Love\"], 'artist': ['Piyush Kapoor, Devi Sri Prasad'], 'albumartist': ['DSP'], 'organization': ['Lahari Music'], 'tracknumber': ['04/05'], 'genre': ['Soundtrack'], 'date': ['2014']}\n",
      "{'album': ['1 - Nenokkadine (2014)'], 'composer': ['Music : Devi Sri Prasad | Lyrics : Chandrabose'], 'copyright': ['Lahari Music'], 'encodedby': ['Eac * Lame'], 'length': ['0'], 'title': ['London Babu'], 'artist': ['Priya Hemesh'], 'albumartist': ['DSP'], 'organization': ['Lahari Music'], 'tracknumber': ['05/05'], 'genre': ['Soundtrack'], 'date': ['2014']}\n"
     ]
    }
   ],
   "source": [
    "# check the ID3 tags for the mp3s in our folder  \n",
    "for i in np.arange(0, len(glob_filez)):  \n",
    "\tsong = glob_filez[i]  \n",
    "\tmp3file = MP3(song, ID3=EasyID3)  \n",
    "\tprint(mp3file) "
   ]
  },
  {
   "cell_type": "code",
   "execution_count": 28,
   "metadata": {},
   "outputs": [],
   "source": [
    "\n",
    "def updatemp3tags(mp3file, data):\n",
    "    try:\n",
    "        for key, value in data.items():\n",
    "            if mp3file[key] and mp3file[key][0] not in value:\n",
    "                value.append(mp3file[key][0])\n",
    "                data[key] = value\n",
    "    except Exception as e:\n",
    "        print(\"In exeption\")\n",
    "        print(e)   \n",
    "    return data\n",
    "    "
   ]
  },
  {
   "cell_type": "code",
   "execution_count": null,
   "metadata": {},
   "outputs": [],
   "source": [
    "# Load the JSON file\n",
    "with open(\"mp3tags.json\", \"r\") as file:\n",
    "    data = json.load(file)\n",
    "            \n",
    "# test_album_path = \"C:\\\\Users\\\\in the presence\\\\Documents\\\\MyWork\\\\mp3-tag-editor\\\\test ablums\\\\\"\n",
    "test_album_path = \"C:\\\\Users\\\\kOUNDINYA\\\\Music\\\\Aditya\\\\Telugu\\\\\"\n",
    "for album in os.listdir(test_album_path):\n",
    "    glob_filez = glob.glob(test_album_path+album+\"\\\\*.mp3\")\n",
    "    for i in np.arange(0, len(glob_filez)):  \n",
    "        song = glob_filez[i]  \n",
    "        mp3file = MP3(song, ID3=EasyID3) \n",
    "        try:\n",
    "            data = updatemp3tags(mp3file,data)\n",
    "        except Exception as e:\n",
    "            pass\n",
    "            # print(\"In exeption\")\n",
    "            # print(e)\n",
    "    \n",
    "# Write the modified data back to the file\n",
    "with open(\"mp3tags.json\", \"w\") as file:\n",
    "    json.dump(data, file, indent=4)\n"
   ]
  },
  {
   "cell_type": "code",
   "execution_count": 31,
   "metadata": {},
   "outputs": [],
   "source": [
    "test_album_path = \"C:\\\\Users\\\\kOUNDINYA\\\\Music\\\\Aditya\\\\Telugu\\\\\"\n",
    "result = []\n",
    "for album in os.listdir(test_album_path):\n",
    "    result.append(album)\n",
    "\n",
    "with open(\"output.txt\", \"w\") as file:\n",
    "    output = \"\\n\".join(result)\n",
    "    file.write(output)"
   ]
  },
  {
   "cell_type": "code",
   "execution_count": 33,
   "metadata": {},
   "outputs": [
    {
     "name": "stdout",
     "output_type": "stream",
     "text": [
      "<class 'list'>\n"
     ]
    }
   ],
   "source": [
    "import csv\n",
    "\n",
    "# Open the file in read mode\n",
    "with open(\"data.csv\", \"r\") as file:\n",
    "    # Create a CSV reader object\n",
    "    reader = csv.reader(file)\n",
    "    \n",
    "    # Iterate over the rows in the file\n",
    "    for row in reader:\n",
    "        # Print the contents of the row\n",
    "        print(row)\n"
   ]
  }
 ],
 "metadata": {
  "kernelspec": {
   "display_name": "Python 3",
   "language": "python",
   "name": "python3"
  },
  "language_info": {
   "codemirror_mode": {
    "name": "ipython",
    "version": 3
   },
   "file_extension": ".py",
   "mimetype": "text/x-python",
   "name": "python",
   "nbconvert_exporter": "python",
   "pygments_lexer": "ipython3",
   "version": "3.10.2"
  },
  "orig_nbformat": 4,
  "vscode": {
   "interpreter": {
    "hash": "58da5f96da04847a53a58594775f17f5d2d1d4b2404ea8be5ee7d5a8683be0b4"
   }
  }
 },
 "nbformat": 4,
 "nbformat_minor": 2
}
