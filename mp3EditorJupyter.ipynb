{
 "cells": [
  {
   "cell_type": "code",
   "execution_count": null,
   "metadata": {},
   "outputs": [],
   "source": [
    "import os\n",
    "import shutil\n",
    "from mutagen.easyid3 import EasyID3\n",
    "from mutagen.mp3 import MP3\n",
    "from mutagen.id3 import APIC, ID3\n",
    "import mimetypes"
   ]
  },
  {
   "cell_type": "code",
   "execution_count": null,
   "metadata": {},
   "outputs": [],
   "source": [
    "def print_mp3_metadata(mp3_file_path):\n",
    "    # Load the MP3 file\n",
    "    audio = MP3(mp3_file_path, ID3=EasyID3)\n",
    "\n",
    "    # Print all available metadata properties\n",
    "    print(\"Available metadata properties:\")\n",
    "    for key in audio.keys():\n",
    "        print(f\"{key}: {audio[key]}\")\n",
    "\n",
    "# Example usage:\n",
    "mp3_file_path = \"D:\\\\utilities\\\\mp3-tag-editor\\\\updated_Akon\\\\Beautifull.mp3\"\n",
    "print_mp3_metadata(mp3_file_path)"
   ]
  },
  {
   "cell_type": "code",
   "execution_count": null,
   "metadata": {},
   "outputs": [],
   "source": [
    "def update_mp3_metadata(album_path, output_path, metadata={}):\n",
    "    \"\"\"\n",
    "    Update metadata of MP3 files.\n",
    "\n",
    "    Args:\n",
    "        album_path (str): Path to the directory containing MP3 files.\n",
    "        output_path (str): Path to the directory where updated MP3 files will be saved.\n",
    "        metadata (dict): Metadata to be updated for the MP3 files.\n",
    "            Example:\n",
    "            {\n",
    "                'album': 'Album Name',\n",
    "                'artist': 'Artist Name',\n",
    "                'title': 'Title of Song',\n",
    "                'tracknumber': '1',\n",
    "                'genre': 'Genre',\n",
    "                'date': '2023',\n",
    "                'albumArt': 'Path to album art image file',\n",
    "            }\n",
    "    \"\"\"\n",
    "    # If output path is not provided, create a default output directory\n",
    "    if output_path == '':\n",
    "        output_path = os.path.join(os.getcwd(), f\"updated_{os.path.basename(album_path)}\")\n",
    "        os.makedirs(output_path, exist_ok=True)\n",
    "\n",
    "    # Get a list of all MP3 files in the album path\n",
    "    mp3_files = [file for file in os.listdir(album_path) if file.endswith(\".mp3\")]\n",
    "\n",
    "    # Counter to track the order of files\n",
    "    track_number = 1\n",
    "\n",
    "    for mp3_file in mp3_files:\n",
    "        # Read the MP3 file\n",
    "        file_path = os.path.join(album_path, mp3_file)\n",
    "\n",
    "        # Create a new MP3 file with the same audio data\n",
    "        new_file_path = os.path.join(output_path, mp3_file)\n",
    "        shutil.copy2(file_path, new_file_path)\n",
    "        new_audio = MP3(new_file_path, ID3=EasyID3)\n",
    "\n",
    "        # Update MP3 properties if available\n",
    "        if metadata:\n",
    "            for key, value in metadata.items():\n",
    "                if key != 'albumArt' and value:\n",
    "                    new_audio[key] = value\n",
    "\n",
    "        # Update track number\n",
    "        new_audio['tracknumber'] = str(track_number)\n",
    "\n",
    "        # Save the changes\n",
    "        new_audio.save()\n",
    "\n",
    "        # Update album art if available\n",
    "        if 'albumArt' in metadata:\n",
    "            album_art_path = metadata['albumArt']\n",
    "            if album_art_path:\n",
    "                mime_type, _ = mimetypes.guess_type(album_art_path)\n",
    "                new_audio = MP3(new_file_path, ID3=ID3)\n",
    "                new_audio.tags.add(APIC(\n",
    "                    encoding=0,\n",
    "                    mime=mime_type,\n",
    "                    type=3,\n",
    "                    desc=u'Cover',\n",
    "                    data=open(album_art_path,'rb').read()\n",
    "                ))\n",
    "                new_audio.save()\n",
    "\n",
    "        # Print a message indicating the properties are updated\n",
    "        print(f\"Updated properties for {mp3_file} and saved to {new_file_path}\")\n",
    "        track_number += 1"
   ]
  },
  {
   "cell_type": "code",
   "execution_count": null,
   "metadata": {},
   "outputs": [],
   "source": [
    "\n",
    "album_path = 'D:\\\\utilities\\\\mp3-tag-editor\\\\testalbums\\\\Akon'\n",
    "output_path = ''\n",
    "\n",
    "# Example usage:\n",
    "metadata = {\n",
    "    'album': '',\n",
    "    # 'encodedby': 'test',\n",
    "    'title': 'Beautiful',\n",
    "    'version': 'test',\n",
    "    'artist': 'test',\n",
    "    'albumartist': 'test',\n",
    "    'genre': 'test',\n",
    "    'date': '2023',\n",
    "    'website': 'test',\n",
    "    'albumArt': r\"D:\\utilities\\mp3-tag-editor\\download.jpg\"\n",
    "}\n",
    "\n",
    "update_mp3_metadata(album_path, output_path, metadata)"
   ]
  },
  {
   "cell_type": "code",
   "execution_count": null,
   "metadata": {},
   "outputs": [],
   "source": []
  }
 ],
 "metadata": {
  "kernelspec": {
   "display_name": "Python 3",
   "language": "python",
   "name": "python3"
  },
  "language_info": {
   "codemirror_mode": {
    "name": "ipython",
    "version": 3
   },
   "file_extension": ".py",
   "mimetype": "text/x-python",
   "name": "python",
   "nbconvert_exporter": "python",
   "pygments_lexer": "ipython3",
   "version": "3.12.1"
  },
  "orig_nbformat": 4,
  "vscode": {
   "interpreter": {
    "hash": "58da5f96da04847a53a58594775f17f5d2d1d4b2404ea8be5ee7d5a8683be0b4"
   }
  }
 },
 "nbformat": 4,
 "nbformat_minor": 2
}
