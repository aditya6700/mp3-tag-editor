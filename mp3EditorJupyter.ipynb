{
 "cells": [
  {
   "cell_type": "code",
   "execution_count": 62,
   "metadata": {},
   "outputs": [],
   "source": [
    "# load the libraries that we'll use  \n",
    "from mutagen.mp3 import MP3  \n",
    "from mutagen.easyid3 import EasyID3  \n",
    "# import mutagen.id3  \n",
    "# from mutagen.id3 import ID3, TIT2, TIT3, TALB, TPE1, TRCK, TYER \n",
    "import glob  \n",
    "import numpy as np  "
   ]
  },
  {
   "cell_type": "code",
   "execution_count": null,
   "metadata": {},
   "outputs": [],
   "source": [
    "def mp3TagEditor():\n",
    "    pass"
   ]
  },
  {
   "cell_type": "code",
   "execution_count": null,
   "metadata": {},
   "outputs": [],
   "source": [
    "# driver code \n",
    "if __name__ == '__main__':\n",
    "    pass "
   ]
  },
  {
   "cell_type": "code",
   "execution_count": 60,
   "metadata": {},
   "outputs": [
    {
     "name": "stdout",
     "output_type": "stream",
     "text": [
      "C:\\Users\\kOUNDINYA\\Music\\Aditya\\Telugu\\RRR\\Dosti.mp3\n",
      "C:\\Users\\kOUNDINYA\\Music\\Aditya\\Telugu\\RRR\\Etthara Jenda.mp3\n",
      "C:\\Users\\kOUNDINYA\\Music\\Aditya\\Telugu\\RRR\\Janani.mp3\n",
      "C:\\Users\\kOUNDINYA\\Music\\Aditya\\Telugu\\RRR\\Komma Uyyala.mp3\n",
      "C:\\Users\\kOUNDINYA\\Music\\Aditya\\Telugu\\RRR\\Komuram Bheemudo.mp3\n",
      "C:\\Users\\kOUNDINYA\\Music\\Aditya\\Telugu\\RRR\\Nattu Nattu.mp3\n"
     ]
    }
   ],
   "source": [
    "# extract the file names (including folders)  \n",
    "# for the mp3s in the album  \n",
    "filez = glob.glob(\"C:\\\\Users\\\\kOUNDINYA\\\\Music\\\\Aditya\\\\Telugu\\\\RRR\\\\*.mp3\")  \n",
    " # print the first element of filez:  \n",
    "filez[0]  \n",
    "print(*filez, sep=\"\\n\")"
   ]
  },
  {
   "cell_type": "code",
   "execution_count": 37,
   "metadata": {},
   "outputs": [
    {
     "data": {
      "text/plain": [
       "['.', 'Theenmar (2011)', 'Aale Baale-SenSongsMp3.Co.mp3']"
      ]
     },
     "execution_count": 37,
     "metadata": {},
     "output_type": "execute_result"
    }
   ],
   "source": [
    "# we want to extract the track number from the file name  \n",
    "# the file name is the last part of the string in 'filez'  \n",
    "# the different parts of 'filez' are split with a   \n",
    "# forward slash (/)  \n",
    "# let's split this element up and see what we get  \n",
    "filez[0].split(\"\\\\\")"
   ]
  },
  {
   "cell_type": "code",
   "execution_count": 61,
   "metadata": {},
   "outputs": [
    {
     "name": "stdout",
     "output_type": "stream",
     "text": [
      "<class 'mutagen.mp3.MP3'>\n",
      "{'album': ['RRR (2022)'], 'composer': ['M M Keeravani'], 'encodedby': ['SenSongsMp3.Co'], 'title': ['Janani :: SenSongsMp3.Com'], 'artist': ['M. M. Keeravaani, Chorus '], 'albumartist': ['NTR, Ram Charan, Ajay Devgn, Alia Bhatt'], 'organization': ['SenSongsMp3.Co'], 'tracknumber': ['3'], 'genre': ['Telugu'], 'date': ['2021']}\n"
     ]
    }
   ],
   "source": [
    "# import the mp3 object into Python with mutagen  \n",
    "# this allows us to see (and eventually edit)  \n",
    "# the ID3 tags  \n",
    "mp3file = MP3(filez[2], ID3=EasyID3)  \n",
    "print(type(mp3file)) \n",
    "# what is contained in the existing ID3 tags?   \n",
    "print(mp3file)"
   ]
  },
  {
   "cell_type": "code",
   "execution_count": 63,
   "metadata": {},
   "outputs": [],
   "source": [
    "# extract the file names (with file paths)  \n",
    "filez = glob.glob(\".\\Theenmar (2011)\\*.mp3\")  \n",
    "# loop through the mp3 files, extracting the track number,  \n",
    "# then setting the album, albumartist and track number  \n",
    "# to the appropriate values   \n",
    "for i in np.arange(0, len (filez)):  \n",
    "\t# extract the length of the directory  \n",
    "\tlength_directory = len(filez[i].split(\"\\\\\"))  \n",
    "\t# extract the track number from the last element of the file path  \n",
    "\ttracknum = filez[i].split(\"\\\\\")[length_directory-1][0:2]  \n",
    "\t# mp3 name (with directory) from filez  \n",
    "\tsong = filez[i]  \n",
    "\t# turn it into an mp3 object using the mutagen library  \n",
    "\tmp3file = MP3(song, ID3=EasyID3) \n",
    "  \n",
    "\tmp3file['album'] = ['Theenmar (2011)']\n",
    "\tmp3file['encodedby'] = ['']\n",
    "\tmp3file['title'] = [filez[i].split(\"\\\\\")[-1].replace(\"-SenSongsMp3.Co.mp3\",\"\").rstrip()]\n",
    "\tmp3file['artist'] = ['Pawan Kalyan, Trisha Krishnan, Kruthi Kharbanda']\n",
    "\tmp3file['albumartist'] = mp3file['composer'] = ['Mani Sharma']\n",
    "\tmp3file['organization'] = ['']\n",
    "\tmp3file['tracknumber'] =  str(i+1) + '/' + str(len(filez))  \n",
    "\tmp3file['genre'] = ['']\n",
    "\tmp3file['date'] = ['2016'] \n",
    "\tmp3file['copyright'] = ['http://iSongs.info']\n",
    "\tmp3file['genre'] = ['Telugu']\n",
    " \t# save the changes that we've made\n",
    "\tmp3file.save() \n",
    "\tos.rename(filez[i],filez[i].replace(\"-SenSongsMp3.Co\",\"\"))"
   ]
  },
  {
   "cell_type": "code",
   "execution_count": 59,
   "metadata": {},
   "outputs": [
    {
     "name": "stdout",
     "output_type": "stream",
     "text": [
      "{'album': ['Theenmar (2011)'], 'composer': ['Mani Sharma'], 'copyright': ['http://iSongs.info'], 'title': ['Aale Baale.mp3'], 'artist': ['Pawan Kalyan, Trisha Krishnan, Kruthi Kharbanda'], 'albumartist': ['Mani Sharma'], 'tracknumber': ['1/6'], 'genre': ['Telugu'], 'date': ['2016']}\n",
      "{'album': ['Theenmar (2011)'], 'composer': ['Mani Sharma'], 'copyright': ['http://iSongs.info'], 'title': ['Barbie Bommaki.mp3'], 'artist': ['Pawan Kalyan, Trisha Krishnan, Kruthi Kharbanda'], 'albumartist': ['Mani Sharma'], 'tracknumber': ['2/6'], 'genre': ['Telugu'], 'date': ['2016']}\n",
      "{'album': ['Theenmar (2011)'], 'composer': ['Mani Sharma'], 'copyright': ['http://iSongs.info'], 'title': ['Chiguru Boniya.mp3'], 'artist': ['Pawan Kalyan, Trisha Krishnan, Kruthi Kharbanda'], 'albumartist': ['Mani Sharma'], 'tracknumber': ['3/6'], 'genre': ['Telugu'], 'date': ['2016']}\n",
      "{'album': ['Theenmar (2011)'], 'composer': ['Mani Sharma'], 'copyright': ['http://iSongs.info'], 'title': ['Gelupu Thalupule.mp3'], 'artist': ['Pawan Kalyan, Trisha Krishnan, Kruthi Kharbanda'], 'albumartist': ['Mani Sharma'], 'tracknumber': ['4/6'], 'genre': ['Telugu'], 'date': ['2016']}\n",
      "{'album': ['Theenmar (2011)'], 'composer': ['Mani Sharma'], 'copyright': ['http://iSongs.info'], 'title': ['Sri Ganga.mp3'], 'artist': ['Pawan Kalyan, Trisha Krishnan, Kruthi Kharbanda'], 'albumartist': ['Mani Sharma'], 'tracknumber': ['5/6'], 'genre': ['Telugu'], 'date': ['2016']}\n",
      "{'album': ['Theenmar (2011)'], 'composer': ['Mani Sharma'], 'copyright': ['http://iSongs.info'], 'title': ['Vayyarala.mp3'], 'artist': ['Pawan Kalyan, Trisha Krishnan, Kruthi Kharbanda'], 'albumartist': ['Mani Sharma'], 'tracknumber': ['6/6'], 'genre': ['Telugu'], 'date': ['2016']}\n"
     ]
    }
   ],
   "source": [
    "# check the ID3 tags for the mp3s in our folder  \n",
    "for i in np.arange(0, len(filez)):  \n",
    "\tsong = filez[i]  \n",
    "\tmp3file = MP3(song, ID3=EasyID3)  \n",
    "\tprint(mp3file) "
   ]
  }
 ],
 "metadata": {
  "kernelspec": {
   "display_name": "Python 3",
   "language": "python",
   "name": "python3"
  },
  "language_info": {
   "codemirror_mode": {
    "name": "ipython",
    "version": 3
   },
   "file_extension": ".py",
   "mimetype": "text/x-python",
   "name": "python",
   "nbconvert_exporter": "python",
   "pygments_lexer": "ipython3",
   "version": "3.10.2"
  },
  "orig_nbformat": 4,
  "vscode": {
   "interpreter": {
    "hash": "58da5f96da04847a53a58594775f17f5d2d1d4b2404ea8be5ee7d5a8683be0b4"
   }
  }
 },
 "nbformat": 4,
 "nbformat_minor": 2
}
